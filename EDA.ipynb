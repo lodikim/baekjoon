{
  "nbformat": 4,
  "nbformat_minor": 0,
  "metadata": {
    "colab": {
      "name": "EDA.ipynb",
      "provenance": [],
      "collapsed_sections": [],
      "include_colab_link": true
    },
    "kernelspec": {
      "name": "python3",
      "display_name": "Python 3"
    },
    "language_info": {
      "name": "python"
    }
  },
  "cells": [
    {
      "cell_type": "markdown",
      "metadata": {
        "id": "view-in-github",
        "colab_type": "text"
      },
      "source": [
        "<a href=\"https://colab.research.google.com/github/lodikim/baekjoon/blob/master/EDA.ipynb\" target=\"_parent\"><img src=\"https://colab.research.google.com/assets/colab-badge.svg\" alt=\"Open In Colab\"/></a>"
      ]
    },
    {
      "cell_type": "markdown",
      "metadata": {
        "id": "Z749xuEuhynV"
      },
      "source": [
        "Data Download"
      ]
    },
    {
      "cell_type": "code",
      "metadata": {
        "colab": {
          "base_uri": "https://localhost:8080/"
        },
        "id": "KW_MNkxph-W-",
        "outputId": "2c9ba83c-022e-4d1d-f5f6-6eda5dffff60"
      },
      "source": [
        "from google.colab import drive\n",
        "drive.mount('/content/drive')"
      ],
      "execution_count": null,
      "outputs": [
        {
          "output_type": "stream",
          "name": "stdout",
          "text": [
            "Drive already mounted at /content/drive; to attempt to forcibly remount, call drive.mount(\"/content/drive\", force_remount=True).\n"
          ]
        }
      ]
    },
    {
      "cell_type": "markdown",
      "metadata": {
        "id": "DBMyjLicTDL7"
      },
      "source": [
        ""
      ]
    },
    {
      "cell_type": "code",
      "metadata": {
        "colab": {
          "base_uri": "https://localhost:8080/"
        },
        "id": "9L6B8Uraiy1N",
        "outputId": "d5feb353-bea6-4a4f-fbe2-bc24da8fcca2"
      },
      "source": [
        "cd drive/MyDrive"
      ],
      "execution_count": null,
      "outputs": [
        {
          "output_type": "stream",
          "name": "stdout",
          "text": [
            "/content/drive/MyDrive\n"
          ]
        }
      ]
    },
    {
      "cell_type": "code",
      "metadata": {
        "id": "U-Ekas8ieV5C",
        "colab": {
          "base_uri": "https://localhost:8080/"
        },
        "outputId": "b4110205-7bf5-495e-c946-09d4e6a3e252"
      },
      "source": [
        "# !unzip data/'문서요약 텍스트'/Validation/신문기사_valid_original.zip -d data\n",
        "# !unzip data/'문서요약 텍스트'/Training/신문기사_train_original.zip -d data\n",
        "# !unzip data/'문서요약 텍스트'/Validation/사설잡지_valid_original.zip -d data\n",
        "# !unzip data/'문서요약 텍스트'/Training/사설잡지_train_original.zip -d data\n",
        "# !unzip data/'문서요약 텍스트'/Validation/법률_valid_original.zip -d data\n",
        "# !unzip data/'문서요약 텍스트'/Training/법률_train_original.zip -d data"
      ],
      "execution_count": null,
      "outputs": [
        {
          "output_type": "stream",
          "name": "stdout",
          "text": [
            "Archive:  data/문서요약 텍스트/Validation/법률_valid_original.zip\n",
            "  inflating: data/vaild_original.json  \n",
            "Archive:  data/문서요약 텍스트/Training/법률_train_original.zip\n",
            "  inflating: data/train_original.json  \n"
          ]
        }
      ]
    },
    {
      "cell_type": "code",
      "metadata": {
        "colab": {
          "base_uri": "https://localhost:8080/"
        },
        "id": "BI-yBfX0mkrO",
        "outputId": "1d58ea15-311e-475b-f4dd-90051f42e384"
      },
      "source": [
        "cd data"
      ],
      "execution_count": null,
      "outputs": [
        {
          "output_type": "stream",
          "name": "stdout",
          "text": [
            "/content/drive/My Drive/data\n"
          ]
        }
      ]
    },
    {
      "cell_type": "code",
      "metadata": {
        "colab": {
          "base_uri": "https://localhost:8080/"
        },
        "id": "vxdzgPlymfoN",
        "outputId": "f629196c-7a6b-4f9a-ea93-14386a16b806"
      },
      "source": [
        "ls"
      ],
      "execution_count": null,
      "outputs": [
        {
          "output_type": "stream",
          "name": "stdout",
          "text": [
            "\u001b[0m\u001b[01;34m'문서요약 텍스트'\u001b[0m/               valid_original_editorial.json\n",
            " train_original_editorial.json   valid_original_law.json\n",
            " train_original_law.json         valid_original_news.json\n",
            " train_original_news.json\n"
          ]
        }
      ]
    },
    {
      "cell_type": "code",
      "metadata": {
        "colab": {
          "base_uri": "https://localhost:8080/"
        },
        "id": "sG2lP4mOkWJK",
        "outputId": "f44186f9-3dea-463e-f349-212ba5c7807d"
      },
      "source": [
        "# json files\n",
        "from glob import glob\n",
        "for filename in glob('*.json'):\n",
        "  print(filename)"
      ],
      "execution_count": null,
      "outputs": [
        {
          "output_type": "stream",
          "name": "stdout",
          "text": [
            "train_original_news.json\n",
            "valid_original_news.json\n",
            "valid_original_editorial.json\n",
            "train_original_editorial.json\n",
            "valid_original_law.json\n",
            "train_original_law.json\n"
          ]
        }
      ]
    },
    {
      "cell_type": "code",
      "metadata": {
        "colab": {
          "base_uri": "https://localhost:8080/",
          "height": 1000
        },
        "id": "EmWyvO6zmPUB",
        "outputId": "27acd1ad-570c-48ad-a56e-7da15354fad2"
      },
      "source": [
        "import pandas as pd\n",
        "\n",
        "# shape, head of each json file\n",
        "from IPython.display import display\n",
        "\n",
        "def preview():\n",
        "  for filename in glob('*.json'):\n",
        "    df = pd.read_json(filename)\n",
        "    print(filename, df.shape)\n",
        "    display(df.head())\n",
        "    print('\\n')\n",
        "    \n",
        "preview()"
      ],
      "execution_count": null,
      "outputs": [
        {
          "output_type": "stream",
          "name": "stdout",
          "text": [
            "train_original_news.json (271093, 3)\n"
          ]
        },
        {
          "output_type": "display_data",
          "data": {
            "text/html": [
              "<div>\n",
              "<style scoped>\n",
              "    .dataframe tbody tr th:only-of-type {\n",
              "        vertical-align: middle;\n",
              "    }\n",
              "\n",
              "    .dataframe tbody tr th {\n",
              "        vertical-align: top;\n",
              "    }\n",
              "\n",
              "    .dataframe thead th {\n",
              "        text-align: right;\n",
              "    }\n",
              "</style>\n",
              "<table border=\"1\" class=\"dataframe\">\n",
              "  <thead>\n",
              "    <tr style=\"text-align: right;\">\n",
              "      <th></th>\n",
              "      <th>name</th>\n",
              "      <th>delivery_date</th>\n",
              "      <th>documents</th>\n",
              "    </tr>\n",
              "  </thead>\n",
              "  <tbody>\n",
              "    <tr>\n",
              "      <th>0</th>\n",
              "      <td>문서요약 프로젝트</td>\n",
              "      <td>2020-12-23 12:01:15</td>\n",
              "      <td>{'id': '290741778', 'category': '종합', 'media_t...</td>\n",
              "    </tr>\n",
              "    <tr>\n",
              "      <th>1</th>\n",
              "      <td>문서요약 프로젝트</td>\n",
              "      <td>2020-12-23 12:01:15</td>\n",
              "      <td>{'id': '290741792', 'category': '종합', 'media_t...</td>\n",
              "    </tr>\n",
              "    <tr>\n",
              "      <th>2</th>\n",
              "      <td>문서요약 프로젝트</td>\n",
              "      <td>2020-12-23 12:01:15</td>\n",
              "      <td>{'id': '290741793', 'category': '스포츠', 'media_...</td>\n",
              "    </tr>\n",
              "    <tr>\n",
              "      <th>3</th>\n",
              "      <td>문서요약 프로젝트</td>\n",
              "      <td>2020-12-23 12:01:15</td>\n",
              "      <td>{'id': '290741794', 'category': '정치', 'media_t...</td>\n",
              "    </tr>\n",
              "    <tr>\n",
              "      <th>4</th>\n",
              "      <td>문서요약 프로젝트</td>\n",
              "      <td>2020-12-23 12:01:15</td>\n",
              "      <td>{'id': '290741797', 'category': '종합', 'media_t...</td>\n",
              "    </tr>\n",
              "  </tbody>\n",
              "</table>\n",
              "</div>"
            ],
            "text/plain": [
              "        name  ...                                          documents\n",
              "0  문서요약 프로젝트  ...  {'id': '290741778', 'category': '종합', 'media_t...\n",
              "1  문서요약 프로젝트  ...  {'id': '290741792', 'category': '종합', 'media_t...\n",
              "2  문서요약 프로젝트  ...  {'id': '290741793', 'category': '스포츠', 'media_...\n",
              "3  문서요약 프로젝트  ...  {'id': '290741794', 'category': '정치', 'media_t...\n",
              "4  문서요약 프로젝트  ...  {'id': '290741797', 'category': '종합', 'media_t...\n",
              "\n",
              "[5 rows x 3 columns]"
            ]
          },
          "metadata": {}
        },
        {
          "output_type": "stream",
          "name": "stdout",
          "text": [
            "\n",
            "\n",
            "valid_original_news.json (30122, 3)\n"
          ]
        },
        {
          "output_type": "display_data",
          "data": {
            "text/html": [
              "<div>\n",
              "<style scoped>\n",
              "    .dataframe tbody tr th:only-of-type {\n",
              "        vertical-align: middle;\n",
              "    }\n",
              "\n",
              "    .dataframe tbody tr th {\n",
              "        vertical-align: top;\n",
              "    }\n",
              "\n",
              "    .dataframe thead th {\n",
              "        text-align: right;\n",
              "    }\n",
              "</style>\n",
              "<table border=\"1\" class=\"dataframe\">\n",
              "  <thead>\n",
              "    <tr style=\"text-align: right;\">\n",
              "      <th></th>\n",
              "      <th>name</th>\n",
              "      <th>delivery_date</th>\n",
              "      <th>documents</th>\n",
              "    </tr>\n",
              "  </thead>\n",
              "  <tbody>\n",
              "    <tr>\n",
              "      <th>0</th>\n",
              "      <td>문서요약 프로젝트</td>\n",
              "      <td>2020-12-23 12:01:15</td>\n",
              "      <td>{'id': '340626877', 'category': '정치', 'media_t...</td>\n",
              "    </tr>\n",
              "    <tr>\n",
              "      <th>1</th>\n",
              "      <td>문서요약 프로젝트</td>\n",
              "      <td>2020-12-23 12:01:15</td>\n",
              "      <td>{'id': '340626896', 'category': '종합', 'media_t...</td>\n",
              "    </tr>\n",
              "    <tr>\n",
              "      <th>2</th>\n",
              "      <td>문서요약 프로젝트</td>\n",
              "      <td>2020-12-23 12:01:15</td>\n",
              "      <td>{'id': '340626904', 'category': 'IT,과학', 'medi...</td>\n",
              "    </tr>\n",
              "    <tr>\n",
              "      <th>3</th>\n",
              "      <td>문서요약 프로젝트</td>\n",
              "      <td>2020-12-23 12:01:15</td>\n",
              "      <td>{'id': '340627450', 'category': '사회', 'media_t...</td>\n",
              "    </tr>\n",
              "    <tr>\n",
              "      <th>4</th>\n",
              "      <td>문서요약 프로젝트</td>\n",
              "      <td>2020-12-23 12:01:15</td>\n",
              "      <td>{'id': '340627465', 'category': '경제', 'media_t...</td>\n",
              "    </tr>\n",
              "  </tbody>\n",
              "</table>\n",
              "</div>"
            ],
            "text/plain": [
              "        name  ...                                          documents\n",
              "0  문서요약 프로젝트  ...  {'id': '340626877', 'category': '정치', 'media_t...\n",
              "1  문서요약 프로젝트  ...  {'id': '340626896', 'category': '종합', 'media_t...\n",
              "2  문서요약 프로젝트  ...  {'id': '340626904', 'category': 'IT,과학', 'medi...\n",
              "3  문서요약 프로젝트  ...  {'id': '340627450', 'category': '사회', 'media_t...\n",
              "4  문서요약 프로젝트  ...  {'id': '340627465', 'category': '경제', 'media_t...\n",
              "\n",
              "[5 rows x 3 columns]"
            ]
          },
          "metadata": {}
        },
        {
          "output_type": "stream",
          "name": "stdout",
          "text": [
            "\n",
            "\n",
            "valid_original_editorial.json (7008, 3)\n"
          ]
        },
        {
          "output_type": "display_data",
          "data": {
            "text/html": [
              "<div>\n",
              "<style scoped>\n",
              "    .dataframe tbody tr th:only-of-type {\n",
              "        vertical-align: middle;\n",
              "    }\n",
              "\n",
              "    .dataframe tbody tr th {\n",
              "        vertical-align: top;\n",
              "    }\n",
              "\n",
              "    .dataframe thead th {\n",
              "        text-align: right;\n",
              "    }\n",
              "</style>\n",
              "<table border=\"1\" class=\"dataframe\">\n",
              "  <thead>\n",
              "    <tr style=\"text-align: right;\">\n",
              "      <th></th>\n",
              "      <th>name</th>\n",
              "      <th>delivery_date</th>\n",
              "      <th>documents</th>\n",
              "    </tr>\n",
              "  </thead>\n",
              "  <tbody>\n",
              "    <tr>\n",
              "      <th>0</th>\n",
              "      <td>사설/잡지 문서 프로젝트</td>\n",
              "      <td>2020-12-23 15:00:19</td>\n",
              "      <td>{'id': '365247698', 'category': '종합', 'media_t...</td>\n",
              "    </tr>\n",
              "    <tr>\n",
              "      <th>1</th>\n",
              "      <td>사설/잡지 문서 프로젝트</td>\n",
              "      <td>2020-12-23 15:00:19</td>\n",
              "      <td>{'id': '365247823', 'category': '정치', 'media_t...</td>\n",
              "    </tr>\n",
              "    <tr>\n",
              "      <th>2</th>\n",
              "      <td>사설/잡지 문서 프로젝트</td>\n",
              "      <td>2020-12-23 15:00:19</td>\n",
              "      <td>{'id': '365247824', 'category': '정치', 'media_t...</td>\n",
              "    </tr>\n",
              "    <tr>\n",
              "      <th>3</th>\n",
              "      <td>사설/잡지 문서 프로젝트</td>\n",
              "      <td>2020-12-23 15:00:19</td>\n",
              "      <td>{'id': '365247941', 'category': '종합', 'media_t...</td>\n",
              "    </tr>\n",
              "    <tr>\n",
              "      <th>4</th>\n",
              "      <td>사설/잡지 문서 프로젝트</td>\n",
              "      <td>2020-12-23 15:00:19</td>\n",
              "      <td>{'id': '365250721', 'category': '종합', 'media_t...</td>\n",
              "    </tr>\n",
              "  </tbody>\n",
              "</table>\n",
              "</div>"
            ],
            "text/plain": [
              "            name  ...                                          documents\n",
              "0  사설/잡지 문서 프로젝트  ...  {'id': '365247698', 'category': '종합', 'media_t...\n",
              "1  사설/잡지 문서 프로젝트  ...  {'id': '365247823', 'category': '정치', 'media_t...\n",
              "2  사설/잡지 문서 프로젝트  ...  {'id': '365247824', 'category': '정치', 'media_t...\n",
              "3  사설/잡지 문서 프로젝트  ...  {'id': '365247941', 'category': '종합', 'media_t...\n",
              "4  사설/잡지 문서 프로젝트  ...  {'id': '365250721', 'category': '종합', 'media_t...\n",
              "\n",
              "[5 rows x 3 columns]"
            ]
          },
          "metadata": {}
        },
        {
          "output_type": "stream",
          "name": "stdout",
          "text": [
            "\n",
            "\n",
            "train_original_editorial.json (63067, 3)\n"
          ]
        },
        {
          "output_type": "display_data",
          "data": {
            "text/html": [
              "<div>\n",
              "<style scoped>\n",
              "    .dataframe tbody tr th:only-of-type {\n",
              "        vertical-align: middle;\n",
              "    }\n",
              "\n",
              "    .dataframe tbody tr th {\n",
              "        vertical-align: top;\n",
              "    }\n",
              "\n",
              "    .dataframe thead th {\n",
              "        text-align: right;\n",
              "    }\n",
              "</style>\n",
              "<table border=\"1\" class=\"dataframe\">\n",
              "  <thead>\n",
              "    <tr style=\"text-align: right;\">\n",
              "      <th></th>\n",
              "      <th>name</th>\n",
              "      <th>delivery_date</th>\n",
              "      <th>documents</th>\n",
              "    </tr>\n",
              "  </thead>\n",
              "  <tbody>\n",
              "    <tr>\n",
              "      <th>0</th>\n",
              "      <td>사설/잡지 문서 프로젝트</td>\n",
              "      <td>2020-12-23 15:00:19</td>\n",
              "      <td>{'id': '100062073', 'category': '오피니언', 'media...</td>\n",
              "    </tr>\n",
              "    <tr>\n",
              "      <th>1</th>\n",
              "      <td>사설/잡지 문서 프로젝트</td>\n",
              "      <td>2020-12-23 15:00:19</td>\n",
              "      <td>{'id': '100062076', 'category': '오피니언', 'media...</td>\n",
              "    </tr>\n",
              "    <tr>\n",
              "      <th>2</th>\n",
              "      <td>사설/잡지 문서 프로젝트</td>\n",
              "      <td>2020-12-23 15:00:19</td>\n",
              "      <td>{'id': '100062209', 'category': '증권', 'media_t...</td>\n",
              "    </tr>\n",
              "    <tr>\n",
              "      <th>3</th>\n",
              "      <td>사설/잡지 문서 프로젝트</td>\n",
              "      <td>2020-12-23 15:00:19</td>\n",
              "      <td>{'id': '100062217', 'category': '증권', 'media_t...</td>\n",
              "    </tr>\n",
              "    <tr>\n",
              "      <th>4</th>\n",
              "      <td>사설/잡지 문서 프로젝트</td>\n",
              "      <td>2020-12-23 15:00:19</td>\n",
              "      <td>{'id': '100062218', 'category': '증권', 'media_t...</td>\n",
              "    </tr>\n",
              "  </tbody>\n",
              "</table>\n",
              "</div>"
            ],
            "text/plain": [
              "            name  ...                                          documents\n",
              "0  사설/잡지 문서 프로젝트  ...  {'id': '100062073', 'category': '오피니언', 'media...\n",
              "1  사설/잡지 문서 프로젝트  ...  {'id': '100062076', 'category': '오피니언', 'media...\n",
              "2  사설/잡지 문서 프로젝트  ...  {'id': '100062209', 'category': '증권', 'media_t...\n",
              "3  사설/잡지 문서 프로젝트  ...  {'id': '100062217', 'category': '증권', 'media_t...\n",
              "4  사설/잡지 문서 프로젝트  ...  {'id': '100062218', 'category': '증권', 'media_t...\n",
              "\n",
              "[5 rows x 3 columns]"
            ]
          },
          "metadata": {}
        },
        {
          "output_type": "stream",
          "name": "stdout",
          "text": [
            "\n",
            "\n",
            "valid_original_law.json (3004, 3)\n"
          ]
        },
        {
          "output_type": "display_data",
          "data": {
            "text/html": [
              "<div>\n",
              "<style scoped>\n",
              "    .dataframe tbody tr th:only-of-type {\n",
              "        vertical-align: middle;\n",
              "    }\n",
              "\n",
              "    .dataframe tbody tr th {\n",
              "        vertical-align: top;\n",
              "    }\n",
              "\n",
              "    .dataframe thead th {\n",
              "        text-align: right;\n",
              "    }\n",
              "</style>\n",
              "<table border=\"1\" class=\"dataframe\">\n",
              "  <thead>\n",
              "    <tr style=\"text-align: right;\">\n",
              "      <th></th>\n",
              "      <th>name</th>\n",
              "      <th>delivery_date</th>\n",
              "      <th>documents</th>\n",
              "    </tr>\n",
              "  </thead>\n",
              "  <tbody>\n",
              "    <tr>\n",
              "      <th>0</th>\n",
              "      <td>법률문서 프로젝트</td>\n",
              "      <td>2020-12-23 17:23:13</td>\n",
              "      <td>{'id': '83587', 'category': '일반행정', 'size': 's...</td>\n",
              "    </tr>\n",
              "    <tr>\n",
              "      <th>1</th>\n",
              "      <td>법률문서 프로젝트</td>\n",
              "      <td>2020-12-23 17:23:13</td>\n",
              "      <td>{'id': '83588', 'category': '일반행정', 'size': 'm...</td>\n",
              "    </tr>\n",
              "    <tr>\n",
              "      <th>2</th>\n",
              "      <td>법률문서 프로젝트</td>\n",
              "      <td>2020-12-23 17:23:13</td>\n",
              "      <td>{'id': '83590', 'category': '세무', 'size': 'sma...</td>\n",
              "    </tr>\n",
              "    <tr>\n",
              "      <th>3</th>\n",
              "      <td>법률문서 프로젝트</td>\n",
              "      <td>2020-12-23 17:23:13</td>\n",
              "      <td>{'id': '83591', 'category': '세무', 'size': 'sma...</td>\n",
              "    </tr>\n",
              "    <tr>\n",
              "      <th>4</th>\n",
              "      <td>법률문서 프로젝트</td>\n",
              "      <td>2020-12-23 17:23:13</td>\n",
              "      <td>{'id': '83592', 'category': '특허', 'size': 'sma...</td>\n",
              "    </tr>\n",
              "  </tbody>\n",
              "</table>\n",
              "</div>"
            ],
            "text/plain": [
              "        name  ...                                          documents\n",
              "0  법률문서 프로젝트  ...  {'id': '83587', 'category': '일반행정', 'size': 's...\n",
              "1  법률문서 프로젝트  ...  {'id': '83588', 'category': '일반행정', 'size': 'm...\n",
              "2  법률문서 프로젝트  ...  {'id': '83590', 'category': '세무', 'size': 'sma...\n",
              "3  법률문서 프로젝트  ...  {'id': '83591', 'category': '세무', 'size': 'sma...\n",
              "4  법률문서 프로젝트  ...  {'id': '83592', 'category': '특허', 'size': 'sma...\n",
              "\n",
              "[5 rows x 3 columns]"
            ]
          },
          "metadata": {}
        },
        {
          "output_type": "stream",
          "name": "stdout",
          "text": [
            "\n",
            "\n",
            "train_original_law.json (27033, 3)\n"
          ]
        },
        {
          "output_type": "display_data",
          "data": {
            "text/html": [
              "<div>\n",
              "<style scoped>\n",
              "    .dataframe tbody tr th:only-of-type {\n",
              "        vertical-align: middle;\n",
              "    }\n",
              "\n",
              "    .dataframe tbody tr th {\n",
              "        vertical-align: top;\n",
              "    }\n",
              "\n",
              "    .dataframe thead th {\n",
              "        text-align: right;\n",
              "    }\n",
              "</style>\n",
              "<table border=\"1\" class=\"dataframe\">\n",
              "  <thead>\n",
              "    <tr style=\"text-align: right;\">\n",
              "      <th></th>\n",
              "      <th>name</th>\n",
              "      <th>delivery_date</th>\n",
              "      <th>documents</th>\n",
              "    </tr>\n",
              "  </thead>\n",
              "  <tbody>\n",
              "    <tr>\n",
              "      <th>0</th>\n",
              "      <td>법률문서 프로젝트</td>\n",
              "      <td>2020-12-23 17:23:13</td>\n",
              "      <td>{'id': '100004', 'category': '일반행정', 'size': '...</td>\n",
              "    </tr>\n",
              "    <tr>\n",
              "      <th>1</th>\n",
              "      <td>법률문서 프로젝트</td>\n",
              "      <td>2020-12-23 17:23:13</td>\n",
              "      <td>{'id': '100005', 'category': '세무', 'size': 'sm...</td>\n",
              "    </tr>\n",
              "    <tr>\n",
              "      <th>2</th>\n",
              "      <td>법률문서 프로젝트</td>\n",
              "      <td>2020-12-23 17:23:13</td>\n",
              "      <td>{'id': '100006', 'category': '세무', 'size': 'sm...</td>\n",
              "    </tr>\n",
              "    <tr>\n",
              "      <th>3</th>\n",
              "      <td>법률문서 프로젝트</td>\n",
              "      <td>2020-12-23 17:23:13</td>\n",
              "      <td>{'id': '100008', 'category': '세무', 'size': 'sm...</td>\n",
              "    </tr>\n",
              "    <tr>\n",
              "      <th>4</th>\n",
              "      <td>법률문서 프로젝트</td>\n",
              "      <td>2020-12-23 17:23:13</td>\n",
              "      <td>{'id': '100014', 'category': '세무', 'size': 'sm...</td>\n",
              "    </tr>\n",
              "  </tbody>\n",
              "</table>\n",
              "</div>"
            ],
            "text/plain": [
              "        name  ...                                          documents\n",
              "0  법률문서 프로젝트  ...  {'id': '100004', 'category': '일반행정', 'size': '...\n",
              "1  법률문서 프로젝트  ...  {'id': '100005', 'category': '세무', 'size': 'sm...\n",
              "2  법률문서 프로젝트  ...  {'id': '100006', 'category': '세무', 'size': 'sm...\n",
              "3  법률문서 프로젝트  ...  {'id': '100008', 'category': '세무', 'size': 'sm...\n",
              "4  법률문서 프로젝트  ...  {'id': '100014', 'category': '세무', 'size': 'sm...\n",
              "\n",
              "[5 rows x 3 columns]"
            ]
          },
          "metadata": {}
        },
        {
          "output_type": "stream",
          "name": "stdout",
          "text": [
            "\n",
            "\n"
          ]
        }
      ]
    },
    {
      "cell_type": "code",
      "metadata": {
        "colab": {
          "base_uri": "https://localhost:8080/"
        },
        "id": "1sjOi39zranF",
        "outputId": "ed80df14-9312-48f2-ef24-6089c27cdd16"
      },
      "source": [
        "def preview_shapes():\n",
        "  for filename in glob('*.json'):\n",
        "    df = pd.read_json(filename)\n",
        "    print(filename, df.shape)\n",
        "    \n",
        "preview_shapes()"
      ],
      "execution_count": null,
      "outputs": [
        {
          "output_type": "stream",
          "name": "stdout",
          "text": [
            "train_original_news.json (271093, 3)\n",
            "\n",
            "\n",
            "valid_original_news.json (30122, 3)\n",
            "\n",
            "\n",
            "valid_original_editorial.json (7008, 3)\n",
            "\n",
            "\n",
            "train_original_editorial.json (63067, 3)\n",
            "\n",
            "\n",
            "valid_original_law.json (3004, 3)\n",
            "\n",
            "\n",
            "train_original_law.json (27033, 3)\n",
            "\n",
            "\n"
          ]
        }
      ]
    },
    {
      "cell_type": "code",
      "metadata": {
        "colab": {
          "base_uri": "https://localhost:8080/"
        },
        "id": "M5PpVuVBmgDv",
        "outputId": "b09ed26b-5414-4d77-ae42-92ec9b74a6c1"
      },
      "source": [
        "df_train_news = pd.read_json('train_original_news.json')\n",
        "df_train_news.documents"
      ],
      "execution_count": null,
      "outputs": [
        {
          "output_type": "execute_result",
          "data": {
            "text/plain": [
              "0         {'id': '290741778', 'category': '종합', 'media_t...\n",
              "1         {'id': '290741792', 'category': '종합', 'media_t...\n",
              "2         {'id': '290741793', 'category': '스포츠', 'media_...\n",
              "3         {'id': '290741794', 'category': '정치', 'media_t...\n",
              "4         {'id': '290741797', 'category': '종합', 'media_t...\n",
              "                                ...                        \n",
              "271088    {'id': '340626140', 'category': '경제', 'media_t...\n",
              "271089    {'id': '340626209', 'category': '경제', 'media_t...\n",
              "271090    {'id': '340626213', 'category': '경제', 'media_t...\n",
              "271091    {'id': '340626365', 'category': '경제', 'media_t...\n",
              "271092    {'id': '340626537', 'category': '정치', 'media_t...\n",
              "Name: documents, Length: 271093, dtype: object"
            ]
          },
          "metadata": {},
          "execution_count": 7
        }
      ]
    },
    {
      "cell_type": "code",
      "metadata": {
        "colab": {
          "base_uri": "https://localhost:8080/"
        },
        "id": "JMcnD6nKnNtN",
        "outputId": "be599e7f-8bfc-436f-d792-cac0d57a060a"
      },
      "source": [
        "df_train_news.documents[0]"
      ],
      "execution_count": null,
      "outputs": [
        {
          "output_type": "execute_result",
          "data": {
            "text/plain": [
              "{'abstractive': [\"전라남도가 쌀 과잉문제를 근본적으로 해결하기 위해 올해부터 벼를 심었던 논에 벼 대신 사료작물이나 콩 등 다른 작물을 심으면 벼와의 일정 소득차를 보전해주는 '쌀 생산조정제'를 적극적으로 시행하기로 하고 오는 22일부터 2월 28일까지 농지 소재지 읍면동사무소에서 신청받는다 .\"],\n",
              " 'annotator_id': 11,\n",
              " 'category': '종합',\n",
              " 'char_count': '927',\n",
              " 'document_quality_scores': {'accurate': 3,\n",
              "  'informative': 3,\n",
              "  'readable': 4,\n",
              "  'trustworthy': 3},\n",
              " 'extractive': [2, 3, 10],\n",
              " 'id': '290741778',\n",
              " 'media_name': '광양신문',\n",
              " 'media_sub_type': '지역지',\n",
              " 'media_type': 'online',\n",
              " 'publish_date': '2018-01-05 18:54:55',\n",
              " 'size': 'small',\n",
              " 'text': [[{'highlight_indices': '',\n",
              "    'index': 0,\n",
              "    'sentence': 'ha당 조사료 400만원…작물별 차등 지원'}],\n",
              "  [{'highlight_indices': '',\n",
              "    'index': 1,\n",
              "    'sentence': '이성훈 sinawi@hanmail.net'}],\n",
              "  [{'highlight_indices': '',\n",
              "    'index': 2,\n",
              "    'sentence': '전라남도가 쌀 과잉문제를 근본적으로 해결하기 위해 올해부터 시행하는 쌀 생산조정제를 적극 추진키로 했다.'}],\n",
              "  [{'highlight_indices': '35,37',\n",
              "    'index': 3,\n",
              "    'sentence': '쌀 생산조정제는 벼를 심었던 논에 벼 대신 사료작물이나 콩 등 다른 작물을 심으면 벼와의 일정 소득차를 보전해주는 제도다.'}],\n",
              "  [{'highlight_indices': '9,11;33,34',\n",
              "    'index': 4,\n",
              "    'sentence': '올해 전남의 논 다른 작물 재배 계획면적은 전국 5만ha의 약 21%인 1만 698ha로, 세부시행지침을 확정, 시군에 통보했다.'},\n",
              "   {'highlight_indices': '50,52',\n",
              "    'index': 5,\n",
              "    'sentence': '지원사업 대상은 2017년산 쌀 변동직불금을 받은 농지에 10a(300평) 이상 벼 이외 다른 작물을 재배한 농업인이다.'}],\n",
              "  [{'highlight_indices': '24,26',\n",
              "    'index': 6,\n",
              "    'sentence': '지원 대상 작물은 1년생을 포함한 다년생의 모든 작물이 해당되나 재배 면적 확대 시 수급과잉이 우려되는 고추, 무, 배추, 인삼, 대파 등 수급 불안 품목은 제외된다.'}],\n",
              "  [{'highlight_indices': '8,10;11,13',\n",
              "    'index': 7,\n",
              "    'sentence': '농지의 경우도 이미 다른 작물 재배 의무가 부여된 간척지, 정부매입비축농지, 농진청 시범사업, 경관보전 직불금 수령 농지 등은 제외될 예정이다.'}],\n",
              "  [{'highlight_indices': '',\n",
              "    'index': 8,\n",
              "    'sentence': 'ha(3000평)당 지원 단가는 평균 340만원으로 사료작물 400만원, 일반작물은 340만원, 콩·팥 등 두류작물은 280만원 등이다.'},\n",
              "   {'highlight_indices': '',\n",
              "    'index': 9,\n",
              "    'sentence': '벼와 소득차와 영농 편이성을 감안해 작물별로 차등 지원된다.'}],\n",
              "  [{'highlight_indices': '3,5',\n",
              "    'index': 10,\n",
              "    'sentence': '논에 다른 작물 재배를 바라는 농가는 오는 22일부터 2월 28일까지 농지 소재지 읍면동사무소에 신청해야 한다.'}],\n",
              "  [{'highlight_indices': '32,33;69,70',\n",
              "    'index': 11,\n",
              "    'sentence': '전남도는 도와 시군에 관련 기관과 농가 등이 참여하는‘논 타작물 지원사업 추진협의회’를 구성, 지역 특성에 맞는 작목 선정 및 사업 심의 등을 본격 추진할 방침이다.'}],\n",
              "  [{'highlight_indices': '26,28;39,41;97,98;110,112',\n",
              "    'index': 12,\n",
              "    'sentence': '최향철 전라남도 친환경농업과장은 “최근 쌀값이 다소 상승추세에 있으나 매년 공급과잉에 따른 가격 하락으로 쌀농가에 어려움이 있었다”며“쌀 공급과잉을 구조적으로 해결하도록 논 타작물 재배 지원사업에 많이 참여해주길 바란다”고 말했다.'}]],\n",
              " 'title': '논 타작물 재배, 2월 말까지 신청하세요'}"
            ]
          },
          "metadata": {},
          "execution_count": 8
        }
      ]
    },
    {
      "cell_type": "code",
      "metadata": {
        "colab": {
          "base_uri": "https://localhost:8080/"
        },
        "id": "kxQcBivOoI03",
        "outputId": "83570c3c-0f37-43a7-e9e9-f3b76ff079fc"
      },
      "source": [
        "df_train_news.documents[0].get('text')"
      ],
      "execution_count": null,
      "outputs": [
        {
          "output_type": "execute_result",
          "data": {
            "text/plain": [
              "[[{'highlight_indices': '',\n",
              "   'index': 0,\n",
              "   'sentence': 'ha당 조사료 400만원…작물별 차등 지원'}],\n",
              " [{'highlight_indices': '', 'index': 1, 'sentence': '이성훈 sinawi@hanmail.net'}],\n",
              " [{'highlight_indices': '',\n",
              "   'index': 2,\n",
              "   'sentence': '전라남도가 쌀 과잉문제를 근본적으로 해결하기 위해 올해부터 시행하는 쌀 생산조정제를 적극 추진키로 했다.'}],\n",
              " [{'highlight_indices': '35,37',\n",
              "   'index': 3,\n",
              "   'sentence': '쌀 생산조정제는 벼를 심었던 논에 벼 대신 사료작물이나 콩 등 다른 작물을 심으면 벼와의 일정 소득차를 보전해주는 제도다.'}],\n",
              " [{'highlight_indices': '9,11;33,34',\n",
              "   'index': 4,\n",
              "   'sentence': '올해 전남의 논 다른 작물 재배 계획면적은 전국 5만ha의 약 21%인 1만 698ha로, 세부시행지침을 확정, 시군에 통보했다.'},\n",
              "  {'highlight_indices': '50,52',\n",
              "   'index': 5,\n",
              "   'sentence': '지원사업 대상은 2017년산 쌀 변동직불금을 받은 농지에 10a(300평) 이상 벼 이외 다른 작물을 재배한 농업인이다.'}],\n",
              " [{'highlight_indices': '24,26',\n",
              "   'index': 6,\n",
              "   'sentence': '지원 대상 작물은 1년생을 포함한 다년생의 모든 작물이 해당되나 재배 면적 확대 시 수급과잉이 우려되는 고추, 무, 배추, 인삼, 대파 등 수급 불안 품목은 제외된다.'}],\n",
              " [{'highlight_indices': '8,10;11,13',\n",
              "   'index': 7,\n",
              "   'sentence': '농지의 경우도 이미 다른 작물 재배 의무가 부여된 간척지, 정부매입비축농지, 농진청 시범사업, 경관보전 직불금 수령 농지 등은 제외될 예정이다.'}],\n",
              " [{'highlight_indices': '',\n",
              "   'index': 8,\n",
              "   'sentence': 'ha(3000평)당 지원 단가는 평균 340만원으로 사료작물 400만원, 일반작물은 340만원, 콩·팥 등 두류작물은 280만원 등이다.'},\n",
              "  {'highlight_indices': '',\n",
              "   'index': 9,\n",
              "   'sentence': '벼와 소득차와 영농 편이성을 감안해 작물별로 차등 지원된다.'}],\n",
              " [{'highlight_indices': '3,5',\n",
              "   'index': 10,\n",
              "   'sentence': '논에 다른 작물 재배를 바라는 농가는 오는 22일부터 2월 28일까지 농지 소재지 읍면동사무소에 신청해야 한다.'}],\n",
              " [{'highlight_indices': '32,33;69,70',\n",
              "   'index': 11,\n",
              "   'sentence': '전남도는 도와 시군에 관련 기관과 농가 등이 참여하는‘논 타작물 지원사업 추진협의회’를 구성, 지역 특성에 맞는 작목 선정 및 사업 심의 등을 본격 추진할 방침이다.'}],\n",
              " [{'highlight_indices': '26,28;39,41;97,98;110,112',\n",
              "   'index': 12,\n",
              "   'sentence': '최향철 전라남도 친환경농업과장은 “최근 쌀값이 다소 상승추세에 있으나 매년 공급과잉에 따른 가격 하락으로 쌀농가에 어려움이 있었다”며“쌀 공급과잉을 구조적으로 해결하도록 논 타작물 재배 지원사업에 많이 참여해주길 바란다”고 말했다.'}]]"
            ]
          },
          "metadata": {},
          "execution_count": 23
        }
      ]
    },
    {
      "cell_type": "code",
      "metadata": {
        "colab": {
          "base_uri": "https://localhost:8080/"
        },
        "id": "1FNBN7YiuZf0",
        "outputId": "39f3dfdf-c31e-44c3-f885-8fa1ae8fd600"
      },
      "source": [
        "len(df_train_news.documents[0].get('text'))"
      ],
      "execution_count": null,
      "outputs": [
        {
          "output_type": "execute_result",
          "data": {
            "text/plain": [
              "11"
            ]
          },
          "metadata": {},
          "execution_count": 36
        }
      ]
    },
    {
      "cell_type": "markdown",
      "metadata": {
        "id": "vCGoyz7dudXl"
      },
      "source": [
        "index는 12까지이므로 len이 13이 되어야할 것 같은데 len이 11인 이유..?"
      ]
    },
    {
      "cell_type": "code",
      "metadata": {
        "colab": {
          "base_uri": "https://localhost:8080/"
        },
        "id": "swMFSruqr6ht",
        "outputId": "7d3520f3-f223-49e2-f729-c026269f47c6"
      },
      "source": [
        "df_train_news.documents[0].get('text')[4]"
      ],
      "execution_count": null,
      "outputs": [
        {
          "output_type": "execute_result",
          "data": {
            "text/plain": [
              "[{'highlight_indices': '9,11;33,34',\n",
              "  'index': 4,\n",
              "  'sentence': '올해 전남의 논 다른 작물 재배 계획면적은 전국 5만ha의 약 21%인 1만 698ha로, 세부시행지침을 확정, 시군에 통보했다.'},\n",
              " {'highlight_indices': '50,52',\n",
              "  'index': 5,\n",
              "  'sentence': '지원사업 대상은 2017년산 쌀 변동직불금을 받은 농지에 10a(300평) 이상 벼 이외 다른 작물을 재배한 농업인이다.'}]"
            ]
          },
          "metadata": {},
          "execution_count": 35
        }
      ]
    },
    {
      "cell_type": "markdown",
      "metadata": {
        "id": "ANmdsZnfut-c"
      },
      "source": [
        "따라서 'index'가 article의 길이를 나타내는 정확한 값"
      ]
    },
    {
      "cell_type": "code",
      "metadata": {
        "colab": {
          "base_uri": "https://localhost:8080/"
        },
        "id": "iZrMWxTBtwQ7",
        "outputId": "760585f6-98f6-4600-c596-bce3e6f1f3e6"
      },
      "source": [
        "df_train_news.documents[0].get('text')[4][1].get('index') # 이런 식으로 index에 접근 가능"
      ],
      "execution_count": null,
      "outputs": [
        {
          "output_type": "execute_result",
          "data": {
            "text/plain": [
              "5"
            ]
          },
          "metadata": {},
          "execution_count": 55
        }
      ]
    },
    {
      "cell_type": "code",
      "metadata": {
        "colab": {
          "base_uri": "https://localhost:8080/"
        },
        "id": "BDlCRqVGu4yT",
        "outputId": "92159785-595f-4c1b-da64-a2a6b16f2ba1"
      },
      "source": [
        "df_train_news.documents[0].get('text')[-1][-1].get('index') # list[-1]이용해서 마지막 sentence의 index 추출"
      ],
      "execution_count": null,
      "outputs": [
        {
          "output_type": "execute_result",
          "data": {
            "text/plain": [
              "12"
            ]
          },
          "metadata": {},
          "execution_count": 58
        }
      ]
    },
    {
      "cell_type": "code",
      "metadata": {
        "colab": {
          "base_uri": "https://localhost:8080/"
        },
        "id": "oXjkfZdLx7mN",
        "outputId": "a7d19a69-6493-4ba7-cd94-5bbddb74c3c9"
      },
      "source": [
        "df_train_news.documents[152].get('text')[-1] # 이런 경우도 존재하므로 배제"
      ],
      "execution_count": null,
      "outputs": [
        {
          "output_type": "execute_result",
          "data": {
            "text/plain": [
              "[]"
            ]
          },
          "metadata": {},
          "execution_count": 78
        }
      ]
    },
    {
      "cell_type": "code",
      "metadata": {
        "colab": {
          "base_uri": "https://localhost:8080/"
        },
        "id": "u_AY4j_wwHMa",
        "outputId": "3889d547-cdae-446f-fed2-078a2731656c"
      },
      "source": [
        "news_lengths=[]\n",
        "for i in range(len(df_train_news)):\n",
        "  if len(df_train_news.documents[i].get('text')[-1])!=0:\n",
        "    index = df_train_news.documents[i].get('text')[-1][-1].get('index')\n",
        "    news_lengths.append(index)\n",
        "  else:\n",
        "    index = df_train_news.documents[i].get('text')[-2][-1].get('index')\n",
        "    news_lengths.append(index)\n",
        "\n",
        "len(news_lengths) # 271093이면 정상"
      ],
      "execution_count": null,
      "outputs": [
        {
          "output_type": "execute_result",
          "data": {
            "text/plain": [
              "271093"
            ]
          },
          "metadata": {},
          "execution_count": 84
        }
      ]
    },
    {
      "cell_type": "code",
      "metadata": {
        "colab": {
          "base_uri": "https://localhost:8080/",
          "height": 353
        },
        "id": "lhOn_PL_zvNX",
        "outputId": "d42ce515-d6e8-40f5-c8c9-cb2f9279ee63"
      },
      "source": [
        "import matplotlib.pyplot as plt\n",
        "\n",
        "plt.hist(news_lengths)"
      ],
      "execution_count": null,
      "outputs": [
        {
          "output_type": "execute_result",
          "data": {
            "text/plain": [
              "(array([2.62354e+05, 8.60200e+03, 1.22000e+02, 1.20000e+01, 2.00000e+00,\n",
              "        0.00000e+00, 0.00000e+00, 0.00000e+00, 0.00000e+00, 1.00000e+00]),\n",
              " array([  2. ,  26.3,  50.6,  74.9,  99.2, 123.5, 147.8, 172.1, 196.4,\n",
              "        220.7, 245. ]),\n",
              " <a list of 10 Patch objects>)"
            ]
          },
          "metadata": {},
          "execution_count": 88
        },
        {
          "output_type": "display_data",
          "data": {
            "image/png": "[encoded data removed]",
            "text/plain": [
              "<Figure size 432x288 with 1 Axes>"
            ]
          },
          "metadata": {
            "needs_background": "light"
          }
        }
      ]
    },
    {
      "cell_type": "code",
      "metadata": {
        "colab": {
          "base_uri": "https://localhost:8080/",
          "height": 335
        },
        "id": "errNuES20bkY",
        "outputId": "eaa888de-2554-41a1-a1fe-d575e90f4f4b"
      },
      "source": [
        "plt.hist(news_lengths, range=[0, 50])"
      ],
      "execution_count": null,
      "outputs": [
        {
          "output_type": "execute_result",
          "data": {
            "text/plain": [
              "(array([  1545.,  78760., 103737.,  51339.,  22577.,   8319.,   2925.,\n",
              "          1080.,    452.,    222.]),\n",
              " array([ 0.,  5., 10., 15., 20., 25., 30., 35., 40., 45., 50.]),\n",
              " <a list of 10 Patch objects>)"
            ]
          },
          "metadata": {},
          "execution_count": 89
        },
        {
          "output_type": "display_data",
          "data": {
            "image/png": "[encoded data removed]",
            "text/plain": [
              "<Figure size 432x288 with 1 Axes>"
            ]
          },
          "metadata": {
            "needs_background": "light"
          }
        }
      ]
    },
    {
      "cell_type": "code",
      "metadata": {
        "id": "Usi-FVTA1Frf"
      },
      "source": [
        ""
      ],
      "execution_count": null,
      "outputs": []
    }
  ]
}